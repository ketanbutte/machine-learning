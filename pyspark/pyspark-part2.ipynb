{
 "cells": [
  {
   "cell_type": "code",
   "execution_count": 1,
   "id": "1e74bb65-94b6-4036-b419-61c003d69720",
   "metadata": {},
   "outputs": [],
   "source": [
    "from pyspark.sql import SparkSession"
   ]
  },
  {
   "cell_type": "code",
   "execution_count": 2,
   "id": "7eef7990-163b-4cc8-a91e-10a6487cc13c",
   "metadata": {},
   "outputs": [],
   "source": [
    "spark2 = SparkSession.builder.appName(\"dataframe\").getOrCreate()"
   ]
  },
  {
   "cell_type": "code",
   "execution_count": 3,
   "id": "585e383a-0ad3-4e39-afdb-6724a3d814d0",
   "metadata": {},
   "outputs": [
    {
     "data": {
      "text/html": [
       "\n",
       "            <div>\n",
       "                <p><b>SparkSession - in-memory</b></p>\n",
       "                \n",
       "        <div>\n",
       "            <p><b>SparkContext</b></p>\n",
       "\n",
       "            <p><a href=\"http://DESKTOP-VAA1GPG:4041\">Spark UI</a></p>\n",
       "\n",
       "            <dl>\n",
       "              <dt>Version</dt>\n",
       "                <dd><code>v3.5.1</code></dd>\n",
       "              <dt>Master</dt>\n",
       "                <dd><code>local[*]</code></dd>\n",
       "              <dt>AppName</dt>\n",
       "                <dd><code>dataframe</code></dd>\n",
       "            </dl>\n",
       "        </div>\n",
       "        \n",
       "            </div>\n",
       "        "
      ],
      "text/plain": [
       "<pyspark.sql.session.SparkSession at 0x1edd12e8690>"
      ]
     },
     "execution_count": 3,
     "metadata": {},
     "output_type": "execute_result"
    }
   ],
   "source": [
    "spark2"
   ]
  },
  {
   "cell_type": "code",
   "execution_count": 9,
   "id": "f086a837-6e93-40b0-a869-473544a38049",
   "metadata": {},
   "outputs": [],
   "source": [
    "df_pyspark = spark2.read.option('header','true').csv('test.csv',inferSchema=True)"
   ]
  },
  {
   "cell_type": "code",
   "execution_count": 10,
   "id": "16d0cce5-bdce-4f9c-8b3c-f5c864f3a032",
   "metadata": {},
   "outputs": [
    {
     "data": {
      "text/plain": [
       "DataFrame[year: int, country: string, captain: string]"
      ]
     },
     "execution_count": 10,
     "metadata": {},
     "output_type": "execute_result"
    }
   ],
   "source": [
    "df_pyspark"
   ]
  },
  {
   "cell_type": "code",
   "execution_count": 11,
   "id": "460e667d-43fa-42a7-8ad7-a4353c795bce",
   "metadata": {},
   "outputs": [
    {
     "name": "stdout",
     "output_type": "stream",
     "text": [
      "+----+-------+-------+\n",
      "|year|country|captain|\n",
      "+----+-------+-------+\n",
      "|2003|    Aus|  Ricky|\n",
      "|2007|    Aus|  Ricky|\n",
      "|2011|    Ind|  Dhoni|\n",
      "|2015|    Aus| Clarke|\n",
      "|2019|    Eng| Morgan|\n",
      "|2023|    Aus|    Pat|\n",
      "+----+-------+-------+\n",
      "\n"
     ]
    }
   ],
   "source": [
    "df_pyspark.show()"
   ]
  },
  {
   "cell_type": "code",
   "execution_count": 12,
   "id": "17704726-1696-4b41-95c1-73f24d01c033",
   "metadata": {},
   "outputs": [
    {
     "name": "stdout",
     "output_type": "stream",
     "text": [
      "root\n",
      " |-- year: integer (nullable = true)\n",
      " |-- country: string (nullable = true)\n",
      " |-- captain: string (nullable = true)\n",
      "\n"
     ]
    }
   ],
   "source": [
    "df_pyspark.printSchema()"
   ]
  },
  {
   "cell_type": "code",
   "execution_count": 13,
   "id": "c24ea463-b4cc-4a73-80e5-61c5effcb7ab",
   "metadata": {},
   "outputs": [
    {
     "data": {
      "text/plain": [
       "pyspark.sql.dataframe.DataFrame"
      ]
     },
     "execution_count": 13,
     "metadata": {},
     "output_type": "execute_result"
    }
   ],
   "source": [
    "type(df_pyspark)"
   ]
  },
  {
   "cell_type": "code",
   "execution_count": 15,
   "id": "e20de544-f7e0-4530-a2ef-3cbe917f5451",
   "metadata": {},
   "outputs": [
    {
     "data": {
      "text/plain": [
       "['year', 'country', 'captain']"
      ]
     },
     "execution_count": 15,
     "metadata": {},
     "output_type": "execute_result"
    }
   ],
   "source": [
    "df_pyspark.columns # get table columns"
   ]
  },
  {
   "cell_type": "code",
   "execution_count": 17,
   "id": "3d30615d-6cea-4fe3-8b0a-76eb4a8b2381",
   "metadata": {},
   "outputs": [
    {
     "data": {
      "text/plain": [
       "[Row(year=2003, country='Aus', captain='Ricky'),\n",
       " Row(year=2007, country='Aus', captain='Ricky'),\n",
       " Row(year=2011, country='Ind', captain='Dhoni')]"
      ]
     },
     "execution_count": 17,
     "metadata": {},
     "output_type": "execute_result"
    }
   ],
   "source": [
    "df_pyspark.head(3) # top n records"
   ]
  },
  {
   "cell_type": "code",
   "execution_count": 19,
   "id": "b90d7e3b-01c4-42cd-8430-2ba71e92a5bb",
   "metadata": {},
   "outputs": [
    {
     "data": {
      "text/plain": [
       "DataFrame[year: int]"
      ]
     },
     "execution_count": 19,
     "metadata": {},
     "output_type": "execute_result"
    }
   ],
   "source": [
    "df_pyspark.select('year') #get info about column"
   ]
  },
  {
   "cell_type": "code",
   "execution_count": 21,
   "id": "08c7f41d-7d95-49a2-8c32-6ae68359b0a5",
   "metadata": {},
   "outputs": [
    {
     "name": "stdout",
     "output_type": "stream",
     "text": [
      "+----+\n",
      "|year|\n",
      "+----+\n",
      "|2003|\n",
      "|2007|\n",
      "|2011|\n",
      "|2015|\n",
      "|2019|\n",
      "|2023|\n",
      "+----+\n",
      "\n"
     ]
    }
   ],
   "source": [
    "df_pyspark.select('year').show() #view entire column"
   ]
  },
  {
   "cell_type": "code",
   "execution_count": 23,
   "id": "38e80abc-ade9-4689-81c0-9adaf8bc3802",
   "metadata": {},
   "outputs": [
    {
     "data": {
      "text/plain": [
       "DataFrame[year: int, captain: string]"
      ]
     },
     "execution_count": 23,
     "metadata": {},
     "output_type": "execute_result"
    }
   ],
   "source": [
    "df_pyspark.select(['year','captain']) #get info about multiple columns"
   ]
  },
  {
   "cell_type": "code",
   "execution_count": 24,
   "id": "a77b4d5e-f450-4348-9dcc-0fc76f786e35",
   "metadata": {},
   "outputs": [
    {
     "name": "stdout",
     "output_type": "stream",
     "text": [
      "+----+-------+\n",
      "|year|captain|\n",
      "+----+-------+\n",
      "|2003|  Ricky|\n",
      "|2007|  Ricky|\n",
      "|2011|  Dhoni|\n",
      "|2015| Clarke|\n",
      "|2019| Morgan|\n",
      "|2023|    Pat|\n",
      "+----+-------+\n",
      "\n"
     ]
    }
   ],
   "source": [
    "df_pyspark.select(['year','captain']).show() #view multiple columns"
   ]
  },
  {
   "cell_type": "code",
   "execution_count": 26,
   "id": "7e89c787-1d8a-40e2-83a2-317ad3626135",
   "metadata": {},
   "outputs": [
    {
     "data": {
      "text/plain": [
       "Column<'year'>"
      ]
     },
     "execution_count": 26,
     "metadata": {},
     "output_type": "execute_result"
    }
   ],
   "source": [
    "#usage similar to pandas\n",
    "df_pyspark['year'] ## --> pyspark just provides column name back to us"
   ]
  },
  {
   "cell_type": "code",
   "execution_count": 27,
   "id": "ef429aa3-d811-4e22-99b6-466c5f6216d3",
   "metadata": {},
   "outputs": [
    {
     "data": {
      "text/plain": [
       "[('year', 'int'), ('country', 'string'), ('captain', 'string')]"
      ]
     },
     "execution_count": 27,
     "metadata": {},
     "output_type": "execute_result"
    }
   ],
   "source": [
    "#similar to pandas\n",
    "df_pyspark.dtypes"
   ]
  },
  {
   "cell_type": "code",
   "execution_count": 28,
   "id": "3021c3a5-dd8a-4afe-acd5-f4af0d95b074",
   "metadata": {},
   "outputs": [
    {
     "data": {
      "text/plain": [
       "DataFrame[summary: string, year: string, country: string, captain: string]"
      ]
     },
     "execution_count": 28,
     "metadata": {},
     "output_type": "execute_result"
    }
   ],
   "source": [
    "df_pyspark.describe()"
   ]
  },
  {
   "cell_type": "code",
   "execution_count": 29,
   "id": "9796dc1c-8ed0-4a22-8942-a70464484a04",
   "metadata": {},
   "outputs": [
    {
     "name": "stdout",
     "output_type": "stream",
     "text": [
      "+-------+-----------------+-------+-------+\n",
      "|summary|             year|country|captain|\n",
      "+-------+-----------------+-------+-------+\n",
      "|  count|                6|      6|      6|\n",
      "|   mean|           2013.0|   NULL|   NULL|\n",
      "| stddev|7.483314773547883|   NULL|   NULL|\n",
      "|    min|             2003|    Aus| Clarke|\n",
      "|    max|             2023|    Ind|  Ricky|\n",
      "+-------+-----------------+-------+-------+\n",
      "\n"
     ]
    }
   ],
   "source": [
    "df_pyspark.describe().show()"
   ]
  },
  {
   "cell_type": "code",
   "execution_count": 32,
   "id": "e9b5b26a-4577-4ae0-955a-c987f450b8cb",
   "metadata": {},
   "outputs": [
    {
     "name": "stdout",
     "output_type": "stream",
     "text": [
      "+----+-------+-------+----------+\n",
      "|year|country|captain|year added|\n",
      "+----+-------+-------+----------+\n",
      "|2003|    Aus|  Ricky|      2008|\n",
      "|2007|    Aus|  Ricky|      2012|\n",
      "|2011|    Ind|  Dhoni|      2016|\n",
      "|2015|    Aus| Clarke|      2020|\n",
      "|2019|    Eng| Morgan|      2024|\n",
      "|2023|    Aus|    Pat|      2028|\n",
      "+----+-------+-------+----------+\n",
      "\n"
     ]
    }
   ],
   "source": [
    "#adding volumns to dataframe\n",
    "\n",
    "df_pyspark.withColumn('year added',df_pyspark['year']+5)"
   ]
  },
  {
   "cell_type": "code",
   "execution_count": 33,
   "id": "db0a928a-a4ff-428c-a88c-b783d9e847ed",
   "metadata": {},
   "outputs": [],
   "source": [
    "df_pyspark = df_pyspark.withColumn('year added',df_pyspark['year']+5)"
   ]
  },
  {
   "cell_type": "code",
   "execution_count": 34,
   "id": "fd6fd441-a19d-4494-9e93-74c6b25bee0c",
   "metadata": {},
   "outputs": [
    {
     "name": "stdout",
     "output_type": "stream",
     "text": [
      "+----+-------+-------+----------+\n",
      "|year|country|captain|year added|\n",
      "+----+-------+-------+----------+\n",
      "|2003|    Aus|  Ricky|      2008|\n",
      "|2007|    Aus|  Ricky|      2012|\n",
      "|2011|    Ind|  Dhoni|      2016|\n",
      "|2015|    Aus| Clarke|      2020|\n",
      "|2019|    Eng| Morgan|      2024|\n",
      "|2023|    Aus|    Pat|      2028|\n",
      "+----+-------+-------+----------+\n",
      "\n"
     ]
    }
   ],
   "source": [
    "df_pyspark.show()"
   ]
  },
  {
   "cell_type": "code",
   "execution_count": 35,
   "id": "b39b5d8c-6061-47a6-8de1-332f539eb2b4",
   "metadata": {},
   "outputs": [],
   "source": [
    "#drop the column"
   ]
  },
  {
   "cell_type": "code",
   "execution_count": 38,
   "id": "bbe3a13f-911e-4ce0-9f23-d10d90709dcb",
   "metadata": {},
   "outputs": [],
   "source": [
    "df_pyspark = df_pyspark.drop('year added')"
   ]
  },
  {
   "cell_type": "code",
   "execution_count": 39,
   "id": "047157a4-9cf5-4837-9035-74df756a3866",
   "metadata": {},
   "outputs": [
    {
     "name": "stdout",
     "output_type": "stream",
     "text": [
      "+----+-------+-------+\n",
      "|year|country|captain|\n",
      "+----+-------+-------+\n",
      "|2003|    Aus|  Ricky|\n",
      "|2007|    Aus|  Ricky|\n",
      "|2011|    Ind|  Dhoni|\n",
      "|2015|    Aus| Clarke|\n",
      "|2019|    Eng| Morgan|\n",
      "|2023|    Aus|    Pat|\n",
      "+----+-------+-------+\n",
      "\n"
     ]
    }
   ],
   "source": [
    "df_pyspark.show()"
   ]
  },
  {
   "cell_type": "code",
   "execution_count": null,
   "id": "02743b7f-f18a-48eb-bc52-ce3822137c7b",
   "metadata": {},
   "outputs": [],
   "source": []
  }
 ],
 "metadata": {
  "kernelspec": {
   "display_name": "Python 3 (ipykernel)",
   "language": "python",
   "name": "python3"
  },
  "language_info": {
   "codemirror_mode": {
    "name": "ipython",
    "version": 3
   },
   "file_extension": ".py",
   "mimetype": "text/x-python",
   "name": "python",
   "nbconvert_exporter": "python",
   "pygments_lexer": "ipython3",
   "version": "3.11.7"
  }
 },
 "nbformat": 4,
 "nbformat_minor": 5
}
