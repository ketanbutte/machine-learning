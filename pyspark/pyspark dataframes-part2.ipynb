{
 "cells": [
  {
   "cell_type": "markdown",
   "id": "7abe3fd4-8edb-4ffd-9fa2-7ee3d3dc1da5",
   "metadata": {},
   "source": [
    "### Handling Missing Values"
   ]
  },
  {
   "cell_type": "code",
   "execution_count": 12,
   "id": "e3a51443-9186-472d-8c4b-961bacc9fd1b",
   "metadata": {},
   "outputs": [],
   "source": [
    "from pyspark.sql import SparkSession\n",
    "spark = SparkSession.builder.appName(\"Practice-Missing\").getOrCreate()"
   ]
  },
  {
   "cell_type": "code",
   "execution_count": 21,
   "id": "48edf10e-f55e-4ba8-b5ab-19af257b42d1",
   "metadata": {},
   "outputs": [
    {
     "data": {
      "text/html": [
       "\n",
       "            <div>\n",
       "                <p><b>SparkSession - in-memory</b></p>\n",
       "                \n",
       "        <div>\n",
       "            <p><b>SparkContext</b></p>\n",
       "\n",
       "            <p><a href=\"http://DESKTOP-VAA1GPG:4041\">Spark UI</a></p>\n",
       "\n",
       "            <dl>\n",
       "              <dt>Version</dt>\n",
       "                <dd><code>v3.5.1</code></dd>\n",
       "              <dt>Master</dt>\n",
       "                <dd><code>local[*]</code></dd>\n",
       "              <dt>AppName</dt>\n",
       "                <dd><code>Practice-Missing</code></dd>\n",
       "            </dl>\n",
       "        </div>\n",
       "        \n",
       "            </div>\n",
       "        "
      ],
      "text/plain": [
       "<pyspark.sql.session.SparkSession at 0x18fd011ba10>"
      ]
     },
     "execution_count": 21,
     "metadata": {},
     "output_type": "execute_result"
    }
   ],
   "source": [
    "spark"
   ]
  },
  {
   "cell_type": "code",
   "execution_count": 19,
   "id": "f34eb0f6-50f1-4e0e-8396-0cf819cede4c",
   "metadata": {},
   "outputs": [],
   "source": [
    "df_pyspark = spark.read.csv('test2.csv',header=True,inferSchema=True)"
   ]
  },
  {
   "cell_type": "code",
   "execution_count": 22,
   "id": "bd8df71d-e8b0-4bd4-915f-24e7f49b8229",
   "metadata": {},
   "outputs": [
    {
     "name": "stdout",
     "output_type": "stream",
     "text": [
      "+--------+----+-----+----+\n",
      "|    name| age| runs| avg|\n",
      "+--------+----+-----+----+\n",
      "|   virat|  32|13000|NULL|\n",
      "|mitchell|NULL| 4500|13.4|\n",
      "|   ricky|  45| NULL|45.5|\n",
      "|jaspreet|  28| 1435| 7.6|\n",
      "|    NULL|NULL| NULL|NULL|\n",
      "|    eoin|NULL| 7600| 5.6|\n",
      "+--------+----+-----+----+\n",
      "\n"
     ]
    }
   ],
   "source": [
    "df_pyspark.show()"
   ]
  },
  {
   "cell_type": "code",
   "execution_count": 23,
   "id": "e3018856-8f91-4d13-b39e-8f6fa473258e",
   "metadata": {},
   "outputs": [
    {
     "name": "stdout",
     "output_type": "stream",
     "text": [
      "+----+-----+----+\n",
      "| age| runs| avg|\n",
      "+----+-----+----+\n",
      "|  32|13000|NULL|\n",
      "|NULL| 4500|13.4|\n",
      "|  45| NULL|45.5|\n",
      "|  28| 1435| 7.6|\n",
      "|NULL| NULL|NULL|\n",
      "|NULL| 7600| 5.6|\n",
      "+----+-----+----+\n",
      "\n"
     ]
    }
   ],
   "source": [
    "df_pyspark.drop('name').show()"
   ]
  },
  {
   "cell_type": "markdown",
   "id": "082b9d9d-105b-4855-a953-1689d230dbf8",
   "metadata": {},
   "source": [
    "#### dropping rows with null values"
   ]
  },
  {
   "cell_type": "code",
   "execution_count": 24,
   "id": "219dcbbd-caab-4bd5-a05e-a1e35f789930",
   "metadata": {},
   "outputs": [
    {
     "name": "stdout",
     "output_type": "stream",
     "text": [
      "+--------+---+----+---+\n",
      "|    name|age|runs|avg|\n",
      "+--------+---+----+---+\n",
      "|jaspreet| 28|1435|7.6|\n",
      "+--------+---+----+---+\n",
      "\n"
     ]
    }
   ],
   "source": [
    "df_pyspark.na.drop().show() #even is "
   ]
  },
  {
   "cell_type": "code",
   "execution_count": 25,
   "id": "a1f18eda-7d65-4926-bec0-315bcd629dd1",
   "metadata": {},
   "outputs": [
    {
     "name": "stdout",
     "output_type": "stream",
     "text": [
      "+--------+---+----+---+\n",
      "|    name|age|runs|avg|\n",
      "+--------+---+----+---+\n",
      "|jaspreet| 28|1435|7.6|\n",
      "+--------+---+----+---+\n",
      "\n"
     ]
    }
   ],
   "source": [
    "df_pyspark.na.drop(how='any').show()"
   ]
  },
  {
   "cell_type": "code",
   "execution_count": 26,
   "id": "c36436d3-fe05-4fb5-b4dc-4560ce234be5",
   "metadata": {},
   "outputs": [
    {
     "name": "stdout",
     "output_type": "stream",
     "text": [
      "+--------+----+-----+----+\n",
      "|    name| age| runs| avg|\n",
      "+--------+----+-----+----+\n",
      "|   virat|  32|13000|NULL|\n",
      "|mitchell|NULL| 4500|13.4|\n",
      "|   ricky|  45| NULL|45.5|\n",
      "|jaspreet|  28| 1435| 7.6|\n",
      "|    eoin|NULL| 7600| 5.6|\n",
      "+--------+----+-----+----+\n",
      "\n"
     ]
    }
   ],
   "source": [
    "df_pyspark.na.drop(how='all').show()"
   ]
  },
  {
   "cell_type": "code",
   "execution_count": 27,
   "id": "ecd675e9-09a4-4ca8-bf11-c4298e9e8d29",
   "metadata": {},
   "outputs": [],
   "source": [
    "# threshold"
   ]
  },
  {
   "cell_type": "code",
   "execution_count": 31,
   "id": "4c1cd2e3-c6f3-4dc3-91ba-db5f4e3773ec",
   "metadata": {},
   "outputs": [
    {
     "name": "stdout",
     "output_type": "stream",
     "text": [
      "+--------+---+----+---+\n",
      "|    name|age|runs|avg|\n",
      "+--------+---+----+---+\n",
      "|jaspreet| 28|1435|7.6|\n",
      "+--------+---+----+---+\n",
      "\n"
     ]
    }
   ],
   "source": [
    "df_pyspark.na.drop(how='any',thresh=4).show()"
   ]
  },
  {
   "cell_type": "code",
   "execution_count": null,
   "id": "8ca0bac7-c36c-4218-bb0a-94b64b81e98a",
   "metadata": {},
   "outputs": [],
   "source": []
  }
 ],
 "metadata": {
  "kernelspec": {
   "display_name": "Python 3 (ipykernel)",
   "language": "python",
   "name": "python3"
  },
  "language_info": {
   "codemirror_mode": {
    "name": "ipython",
    "version": 3
   },
   "file_extension": ".py",
   "mimetype": "text/x-python",
   "name": "python",
   "nbconvert_exporter": "python",
   "pygments_lexer": "ipython3",
   "version": "3.11.7"
  }
 },
 "nbformat": 4,
 "nbformat_minor": 5
}
