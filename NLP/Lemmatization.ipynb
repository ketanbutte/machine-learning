{
 "cells": [
  {
   "cell_type": "markdown",
   "id": "cfa90fc8-a255-4879-92a4-cebe157073f9",
   "metadata": {},
   "source": [
    "improved version of stemming,  \n",
    "Root word instead of root stem"
   ]
  },
  {
   "cell_type": "code",
   "execution_count": 5,
   "id": "c817cc97-b5a1-4cd6-9eaf-4199f7baf274",
   "metadata": {},
   "outputs": [],
   "source": [
    "# import nltk\n",
    "# nltk.download('wordnet')"
   ]
  },
  {
   "cell_type": "code",
   "execution_count": 6,
   "id": "1efac45b-1432-44f1-a1c3-3e680642f090",
   "metadata": {},
   "outputs": [],
   "source": [
    "from nltk.stem import WordNetLemmatizer"
   ]
  },
  {
   "cell_type": "code",
   "execution_count": 7,
   "id": "72dcf487-1844-46c6-9a84-9c380cd2b89e",
   "metadata": {},
   "outputs": [],
   "source": [
    "lemmatizer = WordNetLemmatizer()"
   ]
  },
  {
   "cell_type": "code",
   "execution_count": 11,
   "id": "386ed5c9-c387-4f9d-8847-07f4dc56b13e",
   "metadata": {},
   "outputs": [
    {
     "data": {
      "text/plain": [
       "'Trying'"
      ]
     },
     "execution_count": 11,
     "metadata": {},
     "output_type": "execute_result"
    }
   ],
   "source": [
    "lemmatizer.lemmatize(\"Trying\",pos='v')"
   ]
  },
  {
   "cell_type": "code",
   "execution_count": 12,
   "id": "90cd5ba5-4d6f-422c-aabe-5977c59d29f4",
   "metadata": {},
   "outputs": [],
   "source": [
    "words = [\"going\",\"eating\",\"historically\",\"generally\",\"dancing\"]"
   ]
  },
  {
   "cell_type": "code",
   "execution_count": 15,
   "id": "bc4d402e-4a4b-42f0-b0e9-d0d65887f703",
   "metadata": {},
   "outputs": [
    {
     "name": "stdout",
     "output_type": "stream",
     "text": [
      "go\n",
      "eat\n",
      "historically\n",
      "generally\n",
      "dance\n"
     ]
    }
   ],
   "source": [
    "for word in words:\n",
    "    print(lemmatizer.lemmatize(word,pos='v'))"
   ]
  },
  {
   "cell_type": "code",
   "execution_count": 16,
   "id": "30cfe094-973c-4155-bf84-4523cf1088a2",
   "metadata": {},
   "outputs": [
    {
     "name": "stdout",
     "output_type": "stream",
     "text": [
      "going\n",
      "eating\n",
      "historically\n",
      "generally\n",
      "dancing\n"
     ]
    }
   ],
   "source": [
    "for word in words:\n",
    "    print(lemmatizer.lemmatize(word,pos='a'))"
   ]
  },
  {
   "cell_type": "code",
   "execution_count": 26,
   "id": "29b3c514-d7b6-494b-b106-853f9905a5b6",
   "metadata": {},
   "outputs": [
    {
     "data": {
      "text/plain": [
       "'create'"
      ]
     },
     "execution_count": 26,
     "metadata": {},
     "output_type": "execute_result"
    }
   ],
   "source": [
    "lemmatizer.lemmatize(\"creating\",pos=\"v\")"
   ]
  },
  {
   "cell_type": "code",
   "execution_count": 33,
   "id": "3570deef-f3a9-40cd-a8e7-c095ea9a6252",
   "metadata": {},
   "outputs": [
    {
     "data": {
      "text/plain": [
       "'nice'"
      ]
     },
     "execution_count": 33,
     "metadata": {},
     "output_type": "execute_result"
    }
   ],
   "source": [
    "lemmatizer.lemmatize(\"nice\",pos=\"a\")"
   ]
  },
  {
   "cell_type": "code",
   "execution_count": null,
   "id": "003396e0-d4d4-4b8d-8564-de747bb8e926",
   "metadata": {},
   "outputs": [],
   "source": []
  }
 ],
 "metadata": {
  "kernelspec": {
   "display_name": "Python 3 (ipykernel)",
   "language": "python",
   "name": "python3"
  },
  "language_info": {
   "codemirror_mode": {
    "name": "ipython",
    "version": 3
   },
   "file_extension": ".py",
   "mimetype": "text/x-python",
   "name": "python",
   "nbconvert_exporter": "python",
   "pygments_lexer": "ipython3",
   "version": "3.11.7"
  }
 },
 "nbformat": 4,
 "nbformat_minor": 5
}
