{
 "cells": [
  {
   "cell_type": "markdown",
   "id": "bb9ae875-0085-46d6-a2ee-4bc985499b8f",
   "metadata": {},
   "source": [
    "ref. https://stackoverflow.com/a/38264311/9173692"
   ]
  },
  {
   "cell_type": "markdown",
   "id": "28494b26-d11c-4763-9ff6-82d8c5a2503e",
   "metadata": {},
   "source": [
    "**CC: conjunction, coordinating**\r\n",
    "\r\n",
    "& 'n and both but either et for less minus neither nor or plus so\r\n",
    "therefore times v. versus vs. whether   y**et\r\n",
    "CD: numeral, card**inal\r\n",
    "\r\n",
    "mid-1890 nine-thirty forty-two one-tenth ten million 0.5 one forty-\r\n",
    "seven 1987 twenty '79 zero two 78-degrees eighty-four IX '60s .025\r\n",
    "fifteen 271,124 dozen quintillion DM2,000 ...\r\n",
    "DT: determiner\r\n",
    "\r\n",
    "all an another any both del each either every half la many much nary\r\n",
    "neither no some such that the them these this those\r\n",
    "EX: existential there\r\n",
    "\r\n",
    "there\r\n",
    "IN: preposition or conjunction, subordinating\r\n",
    "\r\n",
    "astride among upon whether out inside pro despite on by throughout\r\n",
    "below within for towards near behind atop around if like until below\r\n",
    "next into if beside ...\r\n",
    "JJ: adjective or numeral, ordinal\r\n",
    "\r\n",
    "third ill-mannered pre-war regrettable oiled calamitous first separable\r\n",
    "ectoplasmic battery-powered participatory fourth still-to-be-named\r\n",
    "multilingual multi-disciplinary ...\r\n",
    "JJR: adjective, comparative\r\n",
    "\r\n",
    "bleaker braver breezier briefer brighter brisker broader bumper busier\r\n",
    "calmer cheaper choosier cleaner clearer closer colder commoner costlier\r\n",
    "cozier creamier crunchier cuter ...\r\n",
    "JJS: adjective, superlative\r\n",
    "\r\n",
    "calmest cheapest choicest classiest cleanest clearest closest commonest\r\n",
    "corniest costliest crassest creepiest crudest cutest darkest deadliest\r\n",
    "dearest deepest densest dinkiest ...\r\n",
    "LS: list item marker\r\n",
    "\r\n",
    "A A. B B. C C. D E F First G H I J K One SP-44001 SP-44002 SP-44005\r\n",
    "SP-44007 Second Third Three Two * a b c d first five four one six three\r\n",
    "two\r\n",
    "MD: modal auxiliary\r\n",
    "\r\n",
    "can cannot could couldn't dare may might must need ought shall should\r\n",
    "shouldn't will would\r\n",
    "NN: noun, common, singular or mass\r\n",
    "\r\n",
    "common-carrier cabbage knuckle-duster Casino afghan shed thermostat\r\n",
    "investment slide humour falloff slick wind hyena override subhumanity\r\n",
    "machinist ...\r\n",
    "NNP: noun, proper, singular\r\n",
    "\r\n",
    "Motown Venneboerger Czestochwa Ranzer Conchita Trumplane Christos\r\n",
    "Oceanside Escobar Kreisler Sawyer Cougar Yvette Ervin ODI Darryl CTCA\r\n",
    "Shannon A.K.C. Meltex Liverpool ...\r\n",
    "NNS: noun, common, plural\r\n",
    "\r\n",
    "undergraduates scotches bric-a-brac products bodyguards facets coasts\r\n",
    "divestitures storehouses designs clubs fragrances averages\r\n",
    "subjectivists apprehensions muses factory-jobs ...\r\n",
    "PDT: pre-determiner\r\n",
    "\r\n",
    "all both half many quite such sure this\r\n",
    "POS: genitive marker\r\n",
    "\r\n",
    "' 's\r\n",
    "PRP: pronoun, personal\r\n",
    "\r\n",
    "hers herself him himself hisself it itself me myself one oneself ours\r\n",
    "ourselves ownself self she thee theirs them themselves they thou thy us\r\n",
    "PRP$: pronoun, possessive\r\n",
    "\r\n",
    "her his mine my our ours their thy your\r\n",
    "RB: adverb\r\n",
    "\r\n",
    "occasionally unabatingly maddeningly adventurously professedly\r\n",
    "stirringly prominently technologically magisterially predominately\r\n",
    "swiftly fiscally pitilessly ...\r\n",
    "RBR: adverb, comparative\r\n",
    "\r\n",
    "further gloomier grander graver greater grimmer harder harsher\r\n",
    "healthier heavier higher however larger later leaner lengthier less-\r\n",
    "perfectly lesser lonelier longer louder lower more ...\r\n",
    "RBS: adverb, superlative\r\n",
    "\r\n",
    "best biggest bluntest earliest farthest first furthest hardest\r\n",
    "heartiest highest largest least less most nearest second tightest worst\r\n",
    "RP: particle\r\n",
    "\r\n",
    "aboard about across along apart around aside at away back before behind\r\n",
    "by crop down ever fast for forth from go high i.e. in into just later\r\n",
    "low more off on open out over per pie raising start teeth that through\r\n",
    "under unto up up-pp upon whole with you\r\n",
    "TO: \"to\" as preposition or infinitive marker\r\n",
    "\r\n",
    "to\r\n",
    "UH: interjection\r\n",
    "\r\n",
    "Goodbye Goody Gosh Wow Jeepers Jee-sus Hubba Hey Kee-reist Oops amen\r\n",
    "huh howdy uh dammit whammo shucks heck anyways whodunnit honey golly\r\n",
    "man baby diddle hush sonuvabitch ...\r\n",
    "VB: verb, base form\r\n",
    "\r\n",
    "ask assemble assess assign assume atone attention avoid bake balkanize\r\n",
    "bank begin behold believe bend benefit bevel beware bless boil bomb\r\n",
    "boost brace break bring broil brush build ...\r\n",
    "VBD: verb, past tense\r\n",
    "\r\n",
    "dipped pleaded swiped regummed soaked tidied convened halted registered\r\n",
    "cushioned exacted snubbed strode aimed adopted belied figgered\r\n",
    "speculated wore appreciated contemplated ...\r\n",
    "VBG: verb, present participle or gerund\r\n",
    "\r\n",
    "telegraphing stirring focusing angering judging stalling lactating\r\n",
    "hankerin' alleging veering capping approaching traveling besieging\r\n",
    "encrypting interrupting erasing wincing ...\r\n",
    "VBN: verb, past participle\r\n",
    "\r\n",
    "multihulled dilapidated aerosolized chaired languished panelized used\r\n",
    "experimented flourished imitated reunifed factored condensed sheared\r\n",
    "unsettled primed dubbed desired ...\r\n",
    "VBP: verb, present tense, not 3rd person singular\r\n",
    "\r\n",
    "predominate wrap resort sue twist spill cure lengthen brush terminate\r\n",
    "appear tend stray glisten obtain comprise detest tease attract\r\n",
    "emphasize mold postpone sever return wag ...\r\n",
    "VBZ: verb, present tense, 3rd person singular\r\n",
    "\r\n",
    "bases reconstructs marks mixes displeases seals carps weaves snatches\r\n",
    "slumps stretches authorizes smolders pictures emerges stockpiles\r\n",
    "seduces fizzes uses bolsters slaps speaks pleads ...\r\n",
    "WDT: WH-determiner\r\n",
    "\r\n",
    "that what whatever which whichever\r\n",
    "WP: WH-pronoun\r\n",
    "\r\n",
    "that what whatever whatsoever which who whom whosoever\r\n",
    "WRB: Wh-adverb\r\n",
    "\r\n",
    "how however whence whenever where whereby whereever wherein whereof why"
   ]
  },
  {
   "cell_type": "code",
   "execution_count": null,
   "id": "147ee679-ed7f-457d-a67a-f50c0b5f46d1",
   "metadata": {},
   "outputs": [],
   "source": []
  },
  {
   "cell_type": "markdown",
   "id": "d642f765-30be-412c-9c56-4fa571dc6066",
   "metadata": {},
   "source": [
    "ref https://www.guru99.com/pos-tagging-chunking-nltk.html"
   ]
  },
  {
   "cell_type": "markdown",
   "id": "72c4fe89-147b-4c4f-9eb6-fe38aebdd964",
   "metadata": {},
   "source": [
    "Abbreviation\tMeaning \n",
    "\n",
    "CC\tcoordinating conjunction  \n",
    "CD\tcardinal digit  \n",
    "DT\tdeterminer  \n",
    "EX\texistential there  \n",
    "FW\tforeign word  \n",
    "IN\tpreposition/subordinating conjunction  \n",
    "JJ\tThis NLTK POS Tag is an adjective (large)  \n",
    "JJR\tadjective, comparative (larger)  \n",
    "JJS\tadjective, superlative (largest)  \n",
    "LS\tlist market  \n",
    "MD\tmodal (could, will)  \n",
    "NN\tnoun, singular (cat, tree)  \n",
    "NNS\tnoun plural (desks)  \n",
    "NNP\tproper noun, singular (sarah)  \n",
    "NNPS\tproper noun, plural (indians or americans)  \n",
    "PDT\tpredeterminer (all, both, half)  \n",
    "POS\tpossessive ending (parent\\ ‘s)  \n",
    "PRP\tpersonal pronoun (hers, herself, him, himself)  \n",
    "PRP$\tpossessive pronoun (her, his, mine, my, our )  \n",
    "RB\tadverb (occasionally, swiftly)  \n",
    "RBR\tadverb, comparative (greater)  \n",
    "RBS\tadverb, superlative (biggest)  \n",
    "RP\tparticle (about)  \n",
    "TO\tinfinite marker (to)  \n",
    "UH\tinterjection (goodbye)  \n",
    "VB\tverb (ask)  \n",
    "VBG\tverb gerund (judging)  \n",
    "VBD\tverb past tense (pleaded)  \n",
    "VBN\tverb past participle (reunified)  \n",
    "VBP\tverb, present tense not 3rd person singular(wrap)  \n",
    "VBZ\tverb, present tense with 3rd person singular (bases)  \n",
    "WDT\twh-determiner (that, what)  \n",
    "WP\twh- pronoun (who)  \n",
    "WRB\twh- adverb (how)  "
   ]
  },
  {
   "cell_type": "code",
   "execution_count": 1,
   "id": "a8bda6bb-302c-4f44-8931-9c0c7e8b29f4",
   "metadata": {},
   "outputs": [],
   "source": [
    "import nltk"
   ]
  },
  {
   "cell_type": "code",
   "execution_count": 4,
   "id": "48df6a8c-b631-4952-a9ca-2f0a76dc1f8a",
   "metadata": {},
   "outputs": [],
   "source": [
    "#nltk.download('averaged_perceptron_tagger') use this if you face error"
   ]
  },
  {
   "cell_type": "code",
   "execution_count": 6,
   "id": "c71fd500-999d-425f-a1e5-a216637d9a29",
   "metadata": {},
   "outputs": [
    {
     "data": {
      "text/plain": [
       "[('India', 'NNP'),\n",
       " ('is', 'VBZ'),\n",
       " ('a', 'DT'),\n",
       " ('beautiful', 'JJ'),\n",
       " ('country', 'NN')]"
      ]
     },
     "execution_count": 6,
     "metadata": {},
     "output_type": "execute_result"
    }
   ],
   "source": [
    "nltk.pos_tag(\"India is a beautiful country\".split())"
   ]
  },
  {
   "cell_type": "code",
   "execution_count": 7,
   "id": "57a2ac0b-b1b1-45b9-8f23-306bd70b45f9",
   "metadata": {},
   "outputs": [
    {
     "name": "stdin",
     "output_type": "stream",
     "text": [
      " Today is a rainy day. There will be a day, which will be sunny. Srilanka is a country in Asian continent.\n"
     ]
    },
    {
     "data": {
      "text/plain": [
       "[('Today', 'NN'),\n",
       " ('is', 'VBZ'),\n",
       " ('a', 'DT'),\n",
       " ('rainy', 'JJ'),\n",
       " ('day.', 'NN'),\n",
       " ('There', 'EX'),\n",
       " ('will', 'MD'),\n",
       " ('be', 'VB'),\n",
       " ('a', 'DT'),\n",
       " ('day,', 'NN'),\n",
       " ('which', 'WDT'),\n",
       " ('will', 'MD'),\n",
       " ('be', 'VB'),\n",
       " ('sunny.', 'JJ'),\n",
       " ('Srilanka', 'NNP'),\n",
       " ('is', 'VBZ'),\n",
       " ('a', 'DT'),\n",
       " ('country', 'NN'),\n",
       " ('in', 'IN'),\n",
       " ('Asian', 'JJ'),\n",
       " ('continent.', 'NN')]"
      ]
     },
     "execution_count": 7,
     "metadata": {},
     "output_type": "execute_result"
    }
   ],
   "source": [
    "nltk.pos_tag(input().split())"
   ]
  },
  {
   "cell_type": "code",
   "execution_count": null,
   "id": "8d346f93-db9d-4e0e-ae82-01757b0c86ed",
   "metadata": {},
   "outputs": [],
   "source": []
  }
 ],
 "metadata": {
  "kernelspec": {
   "display_name": "Python 3 (ipykernel)",
   "language": "python",
   "name": "python3"
  },
  "language_info": {
   "codemirror_mode": {
    "name": "ipython",
    "version": 3
   },
   "file_extension": ".py",
   "mimetype": "text/x-python",
   "name": "python",
   "nbconvert_exporter": "python",
   "pygments_lexer": "ipython3",
   "version": "3.11.7"
  }
 },
 "nbformat": 4,
 "nbformat_minor": 5
}
