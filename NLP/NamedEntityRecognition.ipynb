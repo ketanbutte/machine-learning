{
 "cells": [
  {
   "cell_type": "code",
   "execution_count": 1,
   "id": "cb8c397d-f2a9-455f-92cf-7d9b62d977c7",
   "metadata": {},
   "outputs": [],
   "source": [
    "import nltk"
   ]
  },
  {
   "cell_type": "code",
   "execution_count": 19,
   "id": "873cc794-167d-47df-812e-c4ff0606cdcf",
   "metadata": {},
   "outputs": [],
   "source": [
    "elements = nltk.pos_tag(\"SriLanka has a population of approximately 22 million.\".split())"
   ]
  },
  {
   "cell_type": "code",
   "execution_count": 20,
   "id": "fda67fc1-ac61-4d36-8a45-cd61d3ec2582",
   "metadata": {},
   "outputs": [],
   "source": [
    "# nltk.download('maxent_ne_chunker')\n",
    "# nltk.download('words')"
   ]
  },
  {
   "cell_type": "code",
   "execution_count": null,
   "id": "1002cdca-1684-443c-9c0f-c9246f1b2b00",
   "metadata": {},
   "outputs": [],
   "source": [
    "nltk.ne_chunk(elements).draw()"
   ]
  },
  {
   "cell_type": "code",
   "execution_count": null,
   "id": "9006a85d-3703-4f59-9fc6-cc9c6b32085b",
   "metadata": {},
   "outputs": [],
   "source": []
  }
 ],
 "metadata": {
  "kernelspec": {
   "display_name": "Python 3 (ipykernel)",
   "language": "python",
   "name": "python3"
  },
  "language_info": {
   "codemirror_mode": {
    "name": "ipython",
    "version": 3
   },
   "file_extension": ".py",
   "mimetype": "text/x-python",
   "name": "python",
   "nbconvert_exporter": "python",
   "pygments_lexer": "ipython3",
   "version": "3.11.7"
  }
 },
 "nbformat": 4,
 "nbformat_minor": 5
}
